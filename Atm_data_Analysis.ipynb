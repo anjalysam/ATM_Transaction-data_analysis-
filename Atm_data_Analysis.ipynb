{
  "nbformat": 4,
  "nbformat_minor": 0,
  "metadata": {
    "colab": {
      "name": "Atm_data_Analysis.ipynb",
      "provenance": [],
      "toc_visible": true,
      "authorship_tag": "ABX9TyPEgH/KCMbZfAwVgzW9tOoX"
    },
    "kernelspec": {
      "name": "python3",
      "display_name": "Python 3"
    }
  },
  "cells": [
    {
      "cell_type": "markdown",
      "metadata": {
        "id": "t2f4ZhUTXYAt",
        "colab_type": "text"
      },
      "source": [
        "# **Case Study 2: ATM Transaction data**\n"
      ]
    },
    {
      "cell_type": "code",
      "metadata": {
        "id": "3I7TZ5LgeNo_",
        "colab_type": "code",
        "colab": {
          "base_uri": "https://localhost:8080/",
          "height": 428
        },
        "outputId": "3b2913f2-2722-4b66-f62f-636ce86b3040"
      },
      "source": [
        "#import libraries\n",
        "import pandas as pd\n",
        "import numpy as np\n",
        "import matplotlib.pyplot as plt\n",
        "import seaborn as sns\n",
        "\n",
        "#loading the dataset\n",
        "df=pd.read_csv(\"/content/atm bank dataset.csv\")\n",
        "df.head()"
      ],
      "execution_count": null,
      "outputs": [
        {
          "output_type": "stream",
          "text": [
            "/usr/local/lib/python3.6/dist-packages/statsmodels/tools/_testing.py:19: FutureWarning: pandas.util.testing is deprecated. Use the functions in the public API at pandas.testing instead.\n",
            "  import pandas.util.testing as tm\n"
          ],
          "name": "stderr"
        },
        {
          "output_type": "execute_result",
          "data": {
            "text/html": [
              "<div>\n",
              "<style scoped>\n",
              "    .dataframe tbody tr th:only-of-type {\n",
              "        vertical-align: middle;\n",
              "    }\n",
              "\n",
              "    .dataframe tbody tr th {\n",
              "        vertical-align: top;\n",
              "    }\n",
              "\n",
              "    .dataframe thead th {\n",
              "        text-align: right;\n",
              "    }\n",
              "</style>\n",
              "<table border=\"1\" class=\"dataframe\">\n",
              "  <thead>\n",
              "    <tr style=\"text-align: right;\">\n",
              "      <th></th>\n",
              "      <th>id</th>\n",
              "      <th>atm_name</th>\n",
              "      <th>weekday</th>\n",
              "      <th>festival_religion</th>\n",
              "      <th>working_day</th>\n",
              "      <th>holiday_sequence</th>\n",
              "      <th>trans_date_set</th>\n",
              "      <th>trans_month</th>\n",
              "      <th>trans_year</th>\n",
              "      <th>prevweek_mean</th>\n",
              "      <th>total_amount_withdrawn</th>\n",
              "    </tr>\n",
              "  </thead>\n",
              "  <tbody>\n",
              "    <tr>\n",
              "      <th>0</th>\n",
              "      <td>11</td>\n",
              "      <td>Mount Road ATM</td>\n",
              "      <td>MONDAY</td>\n",
              "      <td>NH</td>\n",
              "      <td>W</td>\n",
              "      <td>WWW</td>\n",
              "      <td>1</td>\n",
              "      <td>1</td>\n",
              "      <td>2011</td>\n",
              "      <td>648600</td>\n",
              "      <td>897100</td>\n",
              "    </tr>\n",
              "    <tr>\n",
              "      <th>1</th>\n",
              "      <td>16</td>\n",
              "      <td>Mount Road ATM</td>\n",
              "      <td>TUESDAY</td>\n",
              "      <td>NH</td>\n",
              "      <td>W</td>\n",
              "      <td>WWW</td>\n",
              "      <td>1</td>\n",
              "      <td>1</td>\n",
              "      <td>2011</td>\n",
              "      <td>648600</td>\n",
              "      <td>826000</td>\n",
              "    </tr>\n",
              "    <tr>\n",
              "      <th>2</th>\n",
              "      <td>21</td>\n",
              "      <td>Mount Road ATM</td>\n",
              "      <td>WEDNESDAY</td>\n",
              "      <td>NH</td>\n",
              "      <td>W</td>\n",
              "      <td>WWW</td>\n",
              "      <td>1</td>\n",
              "      <td>1</td>\n",
              "      <td>2011</td>\n",
              "      <td>648600</td>\n",
              "      <td>754400</td>\n",
              "    </tr>\n",
              "    <tr>\n",
              "      <th>3</th>\n",
              "      <td>26</td>\n",
              "      <td>Mount Road ATM</td>\n",
              "      <td>THURSDAY</td>\n",
              "      <td>NH</td>\n",
              "      <td>W</td>\n",
              "      <td>WWW</td>\n",
              "      <td>2</td>\n",
              "      <td>1</td>\n",
              "      <td>2011</td>\n",
              "      <td>648600</td>\n",
              "      <td>834200</td>\n",
              "    </tr>\n",
              "    <tr>\n",
              "      <th>4</th>\n",
              "      <td>31</td>\n",
              "      <td>Mount Road ATM</td>\n",
              "      <td>FRIDAY</td>\n",
              "      <td>NH</td>\n",
              "      <td>W</td>\n",
              "      <td>WWW</td>\n",
              "      <td>2</td>\n",
              "      <td>1</td>\n",
              "      <td>2011</td>\n",
              "      <td>648600</td>\n",
              "      <td>575300</td>\n",
              "    </tr>\n",
              "  </tbody>\n",
              "</table>\n",
              "</div>"
            ],
            "text/plain": [
              "   id        atm_name  ... prevweek_mean total_amount_withdrawn\n",
              "0  11  Mount Road ATM  ...        648600                 897100\n",
              "1  16  Mount Road ATM  ...        648600                 826000\n",
              "2  21  Mount Road ATM  ...        648600                 754400\n",
              "3  26  Mount Road ATM  ...        648600                 834200\n",
              "4  31  Mount Road ATM  ...        648600                 575300\n",
              "\n",
              "[5 rows x 11 columns]"
            ]
          },
          "metadata": {
            "tags": []
          },
          "execution_count": 1
        }
      ]
    },
    {
      "cell_type": "code",
      "metadata": {
        "id": "-UHjPjYXekSD",
        "colab_type": "code",
        "colab": {
          "base_uri": "https://localhost:8080/",
          "height": 314
        },
        "outputId": "1861bc2f-8afb-4655-991a-340ffab2610e"
      },
      "source": [
        "print(df.shape )\n",
        "#for knowing statastical values\n",
        "df.describe()"
      ],
      "execution_count": null,
      "outputs": [
        {
          "output_type": "stream",
          "text": [
            "(2244, 11)\n"
          ],
          "name": "stdout"
        },
        {
          "output_type": "execute_result",
          "data": {
            "text/html": [
              "<div>\n",
              "<style scoped>\n",
              "    .dataframe tbody tr th:only-of-type {\n",
              "        vertical-align: middle;\n",
              "    }\n",
              "\n",
              "    .dataframe tbody tr th {\n",
              "        vertical-align: top;\n",
              "    }\n",
              "\n",
              "    .dataframe thead th {\n",
              "        text-align: right;\n",
              "    }\n",
              "</style>\n",
              "<table border=\"1\" class=\"dataframe\">\n",
              "  <thead>\n",
              "    <tr style=\"text-align: right;\">\n",
              "      <th></th>\n",
              "      <th>id</th>\n",
              "      <th>trans_date_set</th>\n",
              "      <th>trans_month</th>\n",
              "      <th>trans_year</th>\n",
              "      <th>prevweek_mean</th>\n",
              "      <th>total_amount_withdrawn</th>\n",
              "    </tr>\n",
              "  </thead>\n",
              "  <tbody>\n",
              "    <tr>\n",
              "      <th>count</th>\n",
              "      <td>2244.000000</td>\n",
              "      <td>2244.000000</td>\n",
              "      <td>2244.000000</td>\n",
              "      <td>2244.000000</td>\n",
              "      <td>2.244000e+03</td>\n",
              "      <td>2.244000e+03</td>\n",
              "    </tr>\n",
              "    <tr>\n",
              "      <th>mean</th>\n",
              "      <td>5706.037433</td>\n",
              "      <td>3.557932</td>\n",
              "      <td>6.313280</td>\n",
              "      <td>2013.710784</td>\n",
              "      <td>5.150901e+05</td>\n",
              "      <td>5.157175e+05</td>\n",
              "    </tr>\n",
              "    <tr>\n",
              "      <th>std</th>\n",
              "      <td>3348.296502</td>\n",
              "      <td>1.760703</td>\n",
              "      <td>3.257336</td>\n",
              "      <td>1.920082</td>\n",
              "      <td>1.935272e+05</td>\n",
              "      <td>2.551791e+05</td>\n",
              "    </tr>\n",
              "    <tr>\n",
              "      <th>min</th>\n",
              "      <td>11.000000</td>\n",
              "      <td>1.000000</td>\n",
              "      <td>1.000000</td>\n",
              "      <td>2011.000000</td>\n",
              "      <td>1.800000e+03</td>\n",
              "      <td>1.000000e+02</td>\n",
              "    </tr>\n",
              "    <tr>\n",
              "      <th>25%</th>\n",
              "      <td>2816.750000</td>\n",
              "      <td>2.000000</td>\n",
              "      <td>4.000000</td>\n",
              "      <td>2012.000000</td>\n",
              "      <td>4.197290e+05</td>\n",
              "      <td>3.494750e+05</td>\n",
              "    </tr>\n",
              "    <tr>\n",
              "      <th>50%</th>\n",
              "      <td>5664.500000</td>\n",
              "      <td>4.000000</td>\n",
              "      <td>6.000000</td>\n",
              "      <td>2014.000000</td>\n",
              "      <td>5.403860e+05</td>\n",
              "      <td>5.141000e+05</td>\n",
              "    </tr>\n",
              "    <tr>\n",
              "      <th>75%</th>\n",
              "      <td>8447.250000</td>\n",
              "      <td>5.000000</td>\n",
              "      <td>9.000000</td>\n",
              "      <td>2015.000000</td>\n",
              "      <td>6.378000e+05</td>\n",
              "      <td>6.849250e+05</td>\n",
              "    </tr>\n",
              "    <tr>\n",
              "      <th>max</th>\n",
              "      <td>11585.000000</td>\n",
              "      <td>7.000000</td>\n",
              "      <td>12.000000</td>\n",
              "      <td>2017.000000</td>\n",
              "      <td>1.006829e+06</td>\n",
              "      <td>1.410700e+06</td>\n",
              "    </tr>\n",
              "  </tbody>\n",
              "</table>\n",
              "</div>"
            ],
            "text/plain": [
              "                 id  trans_date_set  ...  prevweek_mean  total_amount_withdrawn\n",
              "count   2244.000000     2244.000000  ...   2.244000e+03            2.244000e+03\n",
              "mean    5706.037433        3.557932  ...   5.150901e+05            5.157175e+05\n",
              "std     3348.296502        1.760703  ...   1.935272e+05            2.551791e+05\n",
              "min       11.000000        1.000000  ...   1.800000e+03            1.000000e+02\n",
              "25%     2816.750000        2.000000  ...   4.197290e+05            3.494750e+05\n",
              "50%     5664.500000        4.000000  ...   5.403860e+05            5.141000e+05\n",
              "75%     8447.250000        5.000000  ...   6.378000e+05            6.849250e+05\n",
              "max    11585.000000        7.000000  ...   1.006829e+06            1.410700e+06\n",
              "\n",
              "[8 rows x 6 columns]"
            ]
          },
          "metadata": {
            "tags": []
          },
          "execution_count": 2
        }
      ]
    },
    {
      "cell_type": "markdown",
      "metadata": {
        "id": "Lr2Vas9QvqfA",
        "colab_type": "text"
      },
      "source": [
        "\n",
        "\n",
        "*   2244 rows and 11 columns\n",
        "\n",
        "\n"
      ]
    },
    {
      "cell_type": "code",
      "metadata": {
        "id": "39coX45Uetbi",
        "colab_type": "code",
        "colab": {
          "base_uri": "https://localhost:8080/",
          "height": 442
        },
        "outputId": "17c22030-33d4-4de4-c953-3febf47a4140"
      },
      "source": [
        "#check the datatype of each variable\n",
        "print(df.dtypes)\n",
        "print()\n",
        "#checking null values\n",
        "print(df.isnull().sum())\n",
        "\n",
        "#drop 1st and 2nd column from the dataset\n",
        "df = df.drop(df.columns[[0,1]], axis=1) "
      ],
      "execution_count": null,
      "outputs": [
        {
          "output_type": "stream",
          "text": [
            "id                         int64\n",
            "atm_name                  object\n",
            "weekday                   object\n",
            "festival_religion         object\n",
            "working_day               object\n",
            "holiday_sequence          object\n",
            "trans_date_set             int64\n",
            "trans_month                int64\n",
            "trans_year                 int64\n",
            "prevweek_mean              int64\n",
            "total_amount_withdrawn     int64\n",
            "dtype: object\n",
            "\n",
            "id                        0\n",
            "atm_name                  0\n",
            "weekday                   0\n",
            "festival_religion         0\n",
            "working_day               0\n",
            "holiday_sequence          0\n",
            "trans_date_set            0\n",
            "trans_month               0\n",
            "trans_year                0\n",
            "prevweek_mean             0\n",
            "total_amount_withdrawn    0\n",
            "dtype: int64\n"
          ],
          "name": "stdout"
        }
      ]
    },
    {
      "cell_type": "markdown",
      "metadata": {
        "id": "XxLYy7Myv7tP",
        "colab_type": "text"
      },
      "source": [
        "* There is no Null values."
      ]
    },
    {
      "cell_type": "code",
      "metadata": {
        "id": "7N3UTdKhetgn",
        "colab_type": "code",
        "colab": {
          "base_uri": "https://localhost:8080/",
          "height": 577
        },
        "outputId": "6ed1988b-c041-4d6c-83c1-9d1ea4565e3a"
      },
      "source": [
        "categorcial_variables = ['trans_month','weekday']\n",
        "for col in categorcial_variables:\n",
        "    plt.figure(figsize=(10,4))\n",
        "    sns.barplot(df[col].value_counts().index,df[col].value_counts().values)\n",
        "    plt.title(col)\n",
        "    plt.tight_layout()"
      ],
      "execution_count": null,
      "outputs": [
        {
          "output_type": "display_data",
          "data": {
            "image/png": "[encoded data removed]",
            "text/plain": [
              "<Figure size 720x288 with 1 Axes>"
            ]
          },
          "metadata": {
            "tags": [],
            "needs_background": "light"
          }
        },
        {
          "output_type": "display_data",
          "data": {
            "image/png": "[encoded data removed]",
            "text/plain": [
              "<Figure size 720x288 with 1 Axes>"
            ]
          },
          "metadata": {
            "tags": [],
            "needs_background": "light"
          }
        }
      ]
    },
    {
      "cell_type": "markdown",
      "metadata": {
        "id": "6qc6xXAp_tTK",
        "colab_type": "text"
      },
      "source": [
        "As we can see in the bar plot, Saturdays and Sundays are the most active days to withdraw money.\n"
      ]
    },
    {
      "cell_type": "code",
      "metadata": {
        "id": "_QnEnweIetk1",
        "colab_type": "code",
        "colab": {
          "base_uri": "https://localhost:8080/",
          "height": 34
        },
        "outputId": "e3cb8711-a590-4bb5-aa1f-45c1fb00b38c"
      },
      "source": [
        "#categorical to numerical\n",
        "df=pd.get_dummies(df,columns=['weekday','festival_religion','working_day','holiday_sequence'])\n",
        "df.shape"
      ],
      "execution_count": null,
      "outputs": [
        {
          "output_type": "execute_result",
          "data": {
            "text/plain": [
              "(2244, 27)"
            ]
          },
          "metadata": {
            "tags": []
          },
          "execution_count": 5
        }
      ]
    },
    {
      "cell_type": "markdown",
      "metadata": {
        "id": "etJUbOdSSX96",
        "colab_type": "text"
      },
      "source": [
        "After OHE we have 2244 observations with 27 columns (features)."
      ]
    },
    {
      "cell_type": "code",
      "metadata": {
        "id": "J51LQKWOetpP",
        "colab_type": "code",
        "colab": {}
      },
      "source": [
        "#heatmap of correlation between each variable\n",
        "corr=df.corr()\n",
        "plt.figure(figsize=(20,20))\n",
        "sns.heatmap(df.corr(),annot=True)"
      ],
      "execution_count": null,
      "outputs": []
    },
    {
      "cell_type": "code",
      "metadata": {
        "id": "vnbzYsj6etuS",
        "colab_type": "code",
        "colab": {}
      },
      "source": [
        "#selecting one feature amoung highly correlated varible\n",
        "columns = np.full((corr.shape[0],), True, dtype=bool)\n",
        "for i in range(corr.shape[0]):\n",
        "    for j in range(i+1, corr.shape[0]):\n",
        "        if corr.iloc[i,j] >= 0.9:\n",
        "            if columns[j]:\n",
        "                columns[j] = False\n",
        "selected_columns = df.columns[columns]\n",
        "df1 = df[selected_columns]"
      ],
      "execution_count": null,
      "outputs": []
    },
    {
      "cell_type": "code",
      "metadata": {
        "id": "FffVBl4Qety5",
        "colab_type": "code",
        "colab": {}
      },
      "source": [
        "from sklearn.model_selection import train_test_split\n",
        "from sklearn.metrics import classification_report\n",
        "from sklearn.metrics import accuracy_score\n",
        "from sklearn.linear_model import LinearRegression"
      ],
      "execution_count": null,
      "outputs": []
    },
    {
      "cell_type": "code",
      "metadata": {
        "id": "g2w4N1Mqet3F",
        "colab_type": "code",
        "colab": {
          "base_uri": "https://localhost:8080/",
          "height": 34
        },
        "outputId": "c1ab8fa4-2c96-4a76-fefa-dd7c69524e93"
      },
      "source": [
        "\n",
        "x = df1.drop(columns = ['total_amount_withdrawn'])\n",
        "y = df1['total_amount_withdrawn']\n",
        "\n",
        "\n",
        "xtrain,xtest,ytrain,ytest=train_test_split(x,y,test_size=.20)\n",
        "print(xtrain.shape,xtest.shape,ytrain.shape,ytest.shape)\n",
        "\n",
        "from sklearn.preprocessing import StandardScaler\n",
        "sc_x= StandardScaler()\n",
        "xtrain = sc.fit_transform(xtrain)\n",
        "xtest = sc.transform(xtest)\n",
        "\n",
        "#scaling target variable\n",
        "ytrain=sc.fit_transform(ytrain.values.reshape(-1,1))\n",
        "ytest=sc.transform(ytest.values.reshape(-1,1))\n",
        "\n"
      ],
      "execution_count": null,
      "outputs": [
        {
          "output_type": "stream",
          "text": [
            "(1795, 24) (449, 24) (1795,) (449,)\n"
          ],
          "name": "stdout"
        }
      ]
    },
    {
      "cell_type": "markdown",
      "metadata": {
        "id": "d8px-ssnXu_G",
        "colab_type": "text"
      },
      "source": [
        "#Linear Regression\n"
      ]
    },
    {
      "cell_type": "code",
      "metadata": {
        "id": "OacSW9Ziet7J",
        "colab_type": "code",
        "colab": {}
      },
      "source": [
        "model=LinearRegression()\n",
        "model.fit(xtrain,ytrain)\n",
        "pred=model.predict(xtest)\n"
      ],
      "execution_count": null,
      "outputs": []
    },
    {
      "cell_type": "code",
      "metadata": {
        "id": "Qp_NHdK3et2U",
        "colab_type": "code",
        "colab": {
          "base_uri": "https://localhost:8080/",
          "height": 85
        },
        "outputId": "b90f14dc-cfcb-49d8-c4b3-3662d6d9de59"
      },
      "source": [
        "#calculating RMSE,MSE,MAE and r2_score\n",
        "from sklearn import metrics\n",
        "MAE_lr=metrics.mean_absolute_error(ytest,pred)\n",
        "MSE_lr=metrics.mean_squared_error(ytest,pred)\n",
        "RMSE_lr=np.sqrt(MSE_lr)\n",
        "r2_lr=metrics.r2_score(ytest,pred)\n",
        "\n",
        "print(MAE_lr)\n",
        "print(MSE_lr)\n",
        "print(RMSE_lr)                    \n",
        "print(r2_lr)"
      ],
      "execution_count": null,
      "outputs": [
        {
          "output_type": "stream",
          "text": [
            "0.6225659111176349\n",
            "0.6275913064688766\n",
            "0.7922066059235284\n",
            "0.363379717300514\n"
          ],
          "name": "stdout"
        }
      ]
    },
    {
      "cell_type": "markdown",
      "metadata": {
        "id": "CQfqcHwmYlTX",
        "colab_type": "text"
      },
      "source": [
        "#XGBoost Regression"
      ]
    },
    {
      "cell_type": "code",
      "metadata": {
        "id": "-Y6PyPc4etyL",
        "colab_type": "code",
        "colab": {
          "base_uri": "https://localhost:8080/",
          "height": 54
        },
        "outputId": "f7320494-9f19-4774-863c-e0173f08dabf"
      },
      "source": [
        "import xgboost as xgb\n",
        "\n",
        "model_xgb=xgb.XGBRegressor()\n",
        "model_xgb.fit(xtrain,ytrain)\n",
        "pred=model_xgb.predict(xtest)\n"
      ],
      "execution_count": null,
      "outputs": [
        {
          "output_type": "stream",
          "text": [
            "[05:00:38] WARNING: /workspace/src/objective/regression_obj.cu:152: reg:linear is now deprecated in favor of reg:squarederror.\n"
          ],
          "name": "stdout"
        }
      ]
    },
    {
      "cell_type": "code",
      "metadata": {
        "id": "eYrxzXaNettC",
        "colab_type": "code",
        "colab": {
          "base_uri": "https://localhost:8080/",
          "height": 85
        },
        "outputId": "68a275ce-1e58-4831-cc1f-ed79007d7761"
      },
      "source": [
        "from sklearn import metrics\n",
        "MAE_xb=metrics.mean_absolute_error(ytest,pred)\n",
        "MSE_xb=metrics.mean_squared_error(ytest,pred)\n",
        "RMSE_xb=np.sqrt(MSE_xb)\n",
        "r2_xb=metrics.r2_score(ytest,pred)\n",
        "\n",
        "print(MAE_xb)\n",
        "print(MSE_xb)\n",
        "print(RMSE_xb)   \n",
        "print(r2_xb)"
      ],
      "execution_count": null,
      "outputs": [
        {
          "output_type": "stream",
          "text": [
            "0.4816322783065597\n",
            "0.4304915657537396\n",
            "0.6561185607447327\n",
            "0.5633150754877749\n"
          ],
          "name": "stdout"
        }
      ]
    },
    {
      "cell_type": "markdown",
      "metadata": {
        "id": "HPl-ES-jxYUH",
        "colab_type": "text"
      },
      "source": [
        "#Support Vector Regression"
      ]
    },
    {
      "cell_type": "code",
      "metadata": {
        "id": "EKxi4zjTwhel",
        "colab_type": "code",
        "colab": {
          "base_uri": "https://localhost:8080/",
          "height": 71
        },
        "outputId": "1caf39dd-8617-4765-cd1a-2842b452856f"
      },
      "source": [
        "from sklearn.svm import SVR\n",
        "regressor = SVR(kernel='rbf')\n",
        "regressor.fit(xtrain,ytrain)\n",
        "\n",
        "y_pred = regressor.predict(xtest)"
      ],
      "execution_count": null,
      "outputs": [
        {
          "output_type": "stream",
          "text": [
            "/usr/local/lib/python3.6/dist-packages/sklearn/utils/validation.py:760: DataConversionWarning: A column-vector y was passed when a 1d array was expected. Please change the shape of y to (n_samples, ), for example using ravel().\n",
            "  y = column_or_1d(y, warn=True)\n"
          ],
          "name": "stderr"
        }
      ]
    },
    {
      "cell_type": "code",
      "metadata": {
        "id": "_8ralsvbw6if",
        "colab_type": "code",
        "colab": {
          "base_uri": "https://localhost:8080/",
          "height": 85
        },
        "outputId": "0dd672b4-f606-47a9-db76-462454cf3440"
      },
      "source": [
        "MAE_svr=metrics.mean_absolute_error(ytest,y_pred)\n",
        "MSE_svr=metrics.mean_squared_error(ytest,y_pred)\n",
        "RMSE_svr=np.sqrt(MSE_svr)\n",
        "r2_svr=metrics.r2_score(ytest,y_pred)\n",
        "\n",
        "print(MAE_svr)\n",
        "print(MSE_svr)\n",
        "print(RMSE_svr)   \n",
        "print(r2_svr)"
      ],
      "execution_count": null,
      "outputs": [
        {
          "output_type": "stream",
          "text": [
            "0.5469114324664873\n",
            "0.5334158846312781\n",
            "0.7303532601633802\n",
            "0.4589100139372291\n"
          ],
          "name": "stdout"
        }
      ]
    },
    {
      "cell_type": "markdown",
      "metadata": {
        "id": "g2hT3PZ6wfNg",
        "colab_type": "text"
      },
      "source": [
        "# ANN"
      ]
    },
    {
      "cell_type": "code",
      "metadata": {
        "id": "qifyazlMetkA",
        "colab_type": "code",
        "colab": {}
      },
      "source": [
        "# Importing the Keras libraries and packages\n",
        "import keras\n",
        "from keras.models import Sequential\n",
        "from keras.layers import Dense\n",
        "\n",
        "\n",
        "# Initializing the ANN\n",
        "classifier = Sequential()\n",
        "# Adding the input layer and the first hidden layer\n",
        "classifier.add(Dense(25, activation = 'relu', input_dim = 24))\n",
        "# Adding the 2 hidden layer\n",
        "classifier.add(Dense(20, activation = 'relu'))\n",
        "# Adding the 3 hidden layer\n",
        "classifier.add(Dense(15, activation = 'relu'))\n",
        "# Adding the 4 hidden layer\n",
        "classifier.add(Dense(8,  activation = 'relu'))\n",
        "# Adding the output layer\n",
        "classifier.add(Dense(1, activation = 'linear'))\n",
        "# Adding the output layer\n",
        "#classifier.add(Dense(1, activation = 'linear'))\n",
        "# Compiling the ANN\n",
        "classifier.compile(optimizer = 'Adam', loss = 'mse')\n",
        "# Fitting the ANN to the Training set\n",
        "classifier.fit(xtrain, ytrain, batch_size=100,epochs = 500)\n",
        "# Part 3 - Making the predictions and evaluating the model\n",
        "# Predicting the Test set results\n",
        "y_pred = classifier.predict(xtest)"
      ],
      "execution_count": null,
      "outputs": []
    },
    {
      "cell_type": "code",
      "metadata": {
        "id": "DEpCM34GetfM",
        "colab_type": "code",
        "colab": {
          "base_uri": "https://localhost:8080/",
          "height": 85
        },
        "outputId": "7f3121ab-c193-414f-e3df-101e1ebd1729"
      },
      "source": [
        "from sklearn import metrics\n",
        "\n",
        "MAE_NN=metrics.mean_absolute_error(ytest, y_pred)\n",
        "MSE_NN=metrics.mean_squared_error(ytest, y_pred)\n",
        "RMSE_NN=np.sqrt(metrics.mean_squared_error(ytest, y_pred))\n",
        "r2_NN=metrics.r2_score(ytest,y_pred)\n",
        "print(MAE_NN)\n",
        "print(MSE_NN)\n",
        "print(RMSE_NN)\n",
        "print(r2_NN)"
      ],
      "execution_count": null,
      "outputs": [
        {
          "output_type": "stream",
          "text": [
            "0.6569505556820857\n",
            "0.8699898953722366\n",
            "0.932732488644111\n",
            "0.11749380938080911\n"
          ],
          "name": "stdout"
        }
      ]
    },
    {
      "cell_type": "markdown",
      "metadata": {
        "id": "8mPp3AYl8vkj",
        "colab_type": "text"
      },
      "source": [
        "# Comparitive analysis"
      ]
    },
    {
      "cell_type": "code",
      "metadata": {
        "id": "3sK97dnHu6_u",
        "colab_type": "code",
        "colab": {
          "base_uri": "https://localhost:8080/",
          "height": 173
        },
        "outputId": "54277cf4-cb64-4db7-fb21-aac06e31be1c"
      },
      "source": [
        "ind=['Linear regression','XGBoost Regression','Support Vector Regression','ANN']\n",
        "data={\"MAE\":[MAE_lr,MAE_xb,MAE_svr,MAE_NN],\"MSE\":[MSE_lr,MSE_xb,MSE_svr,MSE_NN],\n",
        "      \"RMSE\":[RMSE_lr,RMSE_xb,RMSE_svr,RMSE_NN],\"r2_acore\":[r2_lr,r2_xb,r2_svr,r2_NN]}\n",
        "result=pd.DataFrame(data=data,index=ind)\n",
        "result"
      ],
      "execution_count": null,
      "outputs": [
        {
          "output_type": "execute_result",
          "data": {
            "text/html": [
              "<div>\n",
              "<style scoped>\n",
              "    .dataframe tbody tr th:only-of-type {\n",
              "        vertical-align: middle;\n",
              "    }\n",
              "\n",
              "    .dataframe tbody tr th {\n",
              "        vertical-align: top;\n",
              "    }\n",
              "\n",
              "    .dataframe thead th {\n",
              "        text-align: right;\n",
              "    }\n",
              "</style>\n",
              "<table border=\"1\" class=\"dataframe\">\n",
              "  <thead>\n",
              "    <tr style=\"text-align: right;\">\n",
              "      <th></th>\n",
              "      <th>MAE</th>\n",
              "      <th>MSE</th>\n",
              "      <th>RMSE</th>\n",
              "      <th>r2_acore</th>\n",
              "    </tr>\n",
              "  </thead>\n",
              "  <tbody>\n",
              "    <tr>\n",
              "      <th>Linear regression</th>\n",
              "      <td>0.622566</td>\n",
              "      <td>0.627591</td>\n",
              "      <td>0.792207</td>\n",
              "      <td>0.363380</td>\n",
              "    </tr>\n",
              "    <tr>\n",
              "      <th>XGBoost Regression</th>\n",
              "      <td>0.481632</td>\n",
              "      <td>0.430492</td>\n",
              "      <td>0.656119</td>\n",
              "      <td>0.563315</td>\n",
              "    </tr>\n",
              "    <tr>\n",
              "      <th>Support Vector Regression</th>\n",
              "      <td>0.546911</td>\n",
              "      <td>0.533416</td>\n",
              "      <td>0.730353</td>\n",
              "      <td>0.458910</td>\n",
              "    </tr>\n",
              "    <tr>\n",
              "      <th>ANN</th>\n",
              "      <td>0.656951</td>\n",
              "      <td>0.869990</td>\n",
              "      <td>0.932732</td>\n",
              "      <td>0.117494</td>\n",
              "    </tr>\n",
              "  </tbody>\n",
              "</table>\n",
              "</div>"
            ],
            "text/plain": [
              "                                MAE       MSE      RMSE  r2_acore\n",
              "Linear regression          0.622566  0.627591  0.792207  0.363380\n",
              "XGBoost Regression         0.481632  0.430492  0.656119  0.563315\n",
              "Support Vector Regression  0.546911  0.533416  0.730353  0.458910\n",
              "ANN                        0.656951  0.869990  0.932732  0.117494"
            ]
          },
          "metadata": {
            "tags": []
          },
          "execution_count": 18
        }
      ]
    }
  ]
}